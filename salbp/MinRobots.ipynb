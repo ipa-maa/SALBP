{
 "cells": [
  {
   "cell_type": "code",
   "execution_count": 3,
   "metadata": {
    "collapsed": true,
    "jupyter": {
     "outputs_hidden": true
    }
   },
   "outputs": [
    {
     "name": "stdout",
     "output_type": "stream",
     "text": [
      "Requirement already up-to-date: ortools in /home/maa/miniconda3/envs/pytorch/lib/python3.7/site-packages (7.2.6977)\n",
      "Collecting pandas\n",
      "\u001b[?25l  Downloading https://files.pythonhosted.org/packages/22/e6/2d47835f91eb010036be207581fa113fb4e3822ec1b4bafb0d3d105fede6/pandas-0.24.2-cp37-cp37m-manylinux1_x86_64.whl (10.1MB)\n",
      "\u001b[K     |████████████████████████████████| 10.1MB 7.4MB/s \n",
      "\u001b[?25hRequirement already satisfied, skipping upgrade: six>=1.10 in /home/maa/miniconda3/envs/pytorch/lib/python3.7/site-packages (from ortools) (1.12.0)\n",
      "Requirement already satisfied, skipping upgrade: protobuf>=3.8.0 in /home/maa/miniconda3/envs/pytorch/lib/python3.7/site-packages (from ortools) (3.9.0)\n",
      "Requirement already satisfied, skipping upgrade: python-dateutil>=2.5.0 in /home/maa/miniconda3/envs/pytorch/lib/python3.7/site-packages (from pandas) (2.8.0)\n",
      "Requirement already satisfied, skipping upgrade: pytz>=2011k in /home/maa/miniconda3/envs/pytorch/lib/python3.7/site-packages (from pandas) (2019.1)\n",
      "Requirement already satisfied, skipping upgrade: numpy>=1.12.0 in /home/maa/miniconda3/envs/pytorch/lib/python3.7/site-packages (from pandas) (1.16.4)\n",
      "Requirement already satisfied, skipping upgrade: setuptools in /home/maa/miniconda3/envs/pytorch/lib/python3.7/site-packages (from protobuf>=3.8.0->ortools) (41.0.1)\n",
      "Installing collected packages: pandas\n",
      "Successfully installed pandas-0.24.2\n"
     ]
    }
   ],
   "source": [
    "!pip install -U ortools pandas"
   ]
  },
  {
   "cell_type": "code",
   "execution_count": 4,
   "metadata": {},
   "outputs": [],
   "source": [
    "import numpy as np\n",
    "import pandas as pd\n",
    "from ortools.linear_solver import pywraplp"
   ]
  },
  {
   "cell_type": "code",
   "execution_count": 18,
   "metadata": {},
   "outputs": [],
   "source": [
    "np.random.seed(42)\n",
    "samples = 500"
   ]
  },
  {
   "cell_type": "code",
   "execution_count": 46,
   "metadata": {},
   "outputs": [],
   "source": [
    "index = ['name', 'cost', 'size', 'handling', 'positioning', 'joining']\n",
    "names = ['robot' + str(i) for i in range(samples)]\n",
    "costs = np.random.randint(1000, 10000, size=(samples)).tolist()\n",
    "handling = np.random.binomial(1, 0.5, samples)\n",
    "positioning = np.random.binomial(1, 0.5, samples)\n",
    "joining = np.random.binomial(1, 0.5, samples)\n",
    "sizes = np.round(np.random.rand((samples)) * 10, 2)"
   ]
  },
  {
   "cell_type": "code",
   "execution_count": 47,
   "metadata": {},
   "outputs": [
    {
     "data": {
      "text/html": [
       "<div>\n",
       "<style scoped>\n",
       "    .dataframe tbody tr th:only-of-type {\n",
       "        vertical-align: middle;\n",
       "    }\n",
       "\n",
       "    .dataframe tbody tr th {\n",
       "        vertical-align: top;\n",
       "    }\n",
       "\n",
       "    .dataframe thead th {\n",
       "        text-align: right;\n",
       "    }\n",
       "</style>\n",
       "<table border=\"1\" class=\"dataframe\">\n",
       "  <thead>\n",
       "    <tr style=\"text-align: right;\">\n",
       "      <th></th>\n",
       "      <th>name</th>\n",
       "      <th>cost</th>\n",
       "      <th>size</th>\n",
       "      <th>handling</th>\n",
       "      <th>positioning</th>\n",
       "      <th>joining</th>\n",
       "    </tr>\n",
       "  </thead>\n",
       "  <tbody>\n",
       "    <tr>\n",
       "      <th>0</th>\n",
       "      <td>robot0</td>\n",
       "      <td>1785</td>\n",
       "      <td>9.37</td>\n",
       "      <td>0</td>\n",
       "      <td>1</td>\n",
       "      <td>0</td>\n",
       "    </tr>\n",
       "    <tr>\n",
       "      <th>1</th>\n",
       "      <td>robot1</td>\n",
       "      <td>7139</td>\n",
       "      <td>9.84</td>\n",
       "      <td>1</td>\n",
       "      <td>1</td>\n",
       "      <td>1</td>\n",
       "    </tr>\n",
       "    <tr>\n",
       "      <th>2</th>\n",
       "      <td>robot2</td>\n",
       "      <td>7344</td>\n",
       "      <td>7.96</td>\n",
       "      <td>0</td>\n",
       "      <td>1</td>\n",
       "      <td>0</td>\n",
       "    </tr>\n",
       "    <tr>\n",
       "      <th>3</th>\n",
       "      <td>robot3</td>\n",
       "      <td>3416</td>\n",
       "      <td>7.57</td>\n",
       "      <td>1</td>\n",
       "      <td>1</td>\n",
       "      <td>0</td>\n",
       "    </tr>\n",
       "    <tr>\n",
       "      <th>4</th>\n",
       "      <td>robot4</td>\n",
       "      <td>9988</td>\n",
       "      <td>6.81</td>\n",
       "      <td>1</td>\n",
       "      <td>1</td>\n",
       "      <td>1</td>\n",
       "    </tr>\n",
       "    <tr>\n",
       "      <th>5</th>\n",
       "      <td>robot5</td>\n",
       "      <td>5154</td>\n",
       "      <td>1.66</td>\n",
       "      <td>1</td>\n",
       "      <td>1</td>\n",
       "      <td>1</td>\n",
       "    </tr>\n",
       "    <tr>\n",
       "      <th>6</th>\n",
       "      <td>robot6</td>\n",
       "      <td>6619</td>\n",
       "      <td>0.59</td>\n",
       "      <td>0</td>\n",
       "      <td>1</td>\n",
       "      <td>0</td>\n",
       "    </tr>\n",
       "    <tr>\n",
       "      <th>7</th>\n",
       "      <td>robot7</td>\n",
       "      <td>2936</td>\n",
       "      <td>6.91</td>\n",
       "      <td>0</td>\n",
       "      <td>1</td>\n",
       "      <td>0</td>\n",
       "    </tr>\n",
       "    <tr>\n",
       "      <th>8</th>\n",
       "      <td>robot8</td>\n",
       "      <td>4807</td>\n",
       "      <td>7.29</td>\n",
       "      <td>1</td>\n",
       "      <td>1</td>\n",
       "      <td>1</td>\n",
       "    </tr>\n",
       "    <tr>\n",
       "      <th>9</th>\n",
       "      <td>robot9</td>\n",
       "      <td>8151</td>\n",
       "      <td>0.47</td>\n",
       "      <td>0</td>\n",
       "      <td>0</td>\n",
       "      <td>0</td>\n",
       "    </tr>\n",
       "  </tbody>\n",
       "</table>\n",
       "</div>"
      ],
      "text/plain": [
       "     name  cost  size  handling  positioning  joining\n",
       "0  robot0  1785  9.37         0            1        0\n",
       "1  robot1  7139  9.84         1            1        1\n",
       "2  robot2  7344  7.96         0            1        0\n",
       "3  robot3  3416  7.57         1            1        0\n",
       "4  robot4  9988  6.81         1            1        1\n",
       "5  robot5  5154  1.66         1            1        1\n",
       "6  robot6  6619  0.59         0            1        0\n",
       "7  robot7  2936  6.91         0            1        0\n",
       "8  robot8  4807  7.29         1            1        1\n",
       "9  robot9  8151  0.47         0            0        0"
      ]
     },
     "execution_count": 47,
     "metadata": {},
     "output_type": "execute_result"
    }
   ],
   "source": [
    "df = pd.DataFrame({'name': names, 'cost': costs, 'size': sizes, 'handling': handling, 'positioning': positioning, 'joining': joining})\n",
    "df.head(10)"
   ]
  },
  {
   "cell_type": "code",
   "execution_count": 38,
   "metadata": {},
   "outputs": [],
   "source": [
    "constraints = {'cost': 20000, 'size': 10.0, 'max_num': 5, 'handling': 8, 'positioning': 5, 'joining': 3}"
   ]
  },
  {
   "cell_type": "code",
   "execution_count": 40,
   "metadata": {},
   "outputs": [
    {
     "data": {
      "text/plain": [
       "<ortools.linear_solver.pywraplp.Solver; proxy of <Swig Object of type 'operations_research::MPSolver *' at 0x7f6cd5597ed0> >"
      ]
     },
     "execution_count": 40,
     "metadata": {},
     "output_type": "execute_result"
    }
   ],
   "source": [
    "solver = pywraplp.Solver('simple_lp_programm', pywraplp.Solver.CBC_MIXED_INTEGER_PROGRAMMING)\n",
    "solver"
   ]
  },
  {
   "cell_type": "markdown",
   "metadata": {},
   "source": [
    "### Create Variables\n",
    "for every robot in the `df` set one variable which corresponds to the number of occurences for this robot. At first every variable is 1, then it will be minimized.\n",
    "[example](https://developers.google.com/optimization/mip/integer_opt)"
   ]
  },
  {
   "cell_type": "code",
   "execution_count": 48,
   "metadata": {},
   "outputs": [
    {
     "name": "stdout",
     "output_type": "stream",
     "text": [
      "Number of variables: 500\n"
     ]
    }
   ],
   "source": [
    "solver.Clear()\n",
    "# fitness = solver.NumVar(0, solver.infinity(), 'fitness')\n",
    "sol = [[]] * len(df)\n",
    "objective_num = solver.Objective()\n",
    "for i in range(0, len(df)):\n",
    "    sol[i] = solver.IntVar(0, solver.infinity(), df['name'][i])\n",
    "    objective_num.SetCoefficient(sol[i], 1)\n",
    "objective_num.SetMinimization()\n",
    "# cost = solver.NumVar(0, constraints['max_cost'], 'cost')\n",
    "# size = solver.NumVar(0, constraints['max_size'], 'size')\n",
    "# num = solver.IntVar(0, constraints['max_num'], 'num')\n",
    "\n",
    "print('Number of variables:', solver.NumVariables())"
   ]
  },
  {
   "cell_type": "markdown",
   "metadata": {},
   "source": [
    "### create constraints\n",
    "necessary:\n",
    "\n",
    "cost $c$, size $s$ and num $n$\n",
    "\n",
    "\n",
    "\\begin{equation}\n",
    "0 \\leq c \\leq c_{max} \\qquad \\in [0..20000] \\\\\n",
    "0 \\leq s \\leq s_{max} \\qquad \\in [0..10] \\\\\n",
    "0 \\leq n \\leq n_{max} \\qquad \\in \\{ 0..5 \\}\n",
    "\\end{equation}\n",
    "\n",
    "and the number of handling, positionig and joining resources must be:\n",
    "\n",
    "\\begin{equation}\n",
    "h_{min} \\leq h \\\\\n",
    "p_{min} \\leq p \\\\\n",
    "j_{min} \\leq j\n",
    "\\end{equation}"
   ]
  },
  {
   "cell_type": "code",
   "execution_count": 49,
   "metadata": {},
   "outputs": [
    {
     "name": "stdout",
     "output_type": "stream",
     "text": [
      "Number of constraints: 5\n"
     ]
    }
   ],
   "source": [
    "# create constraints\n",
    "# cost_c = solver.Constraint(0, constraints['max_cost'], 'cost')\n",
    "# size_c = solver.Constraint(0, constraints['max_size'], 'size')\n",
    "# num_c = solver.Constraint(0, constraints['max_num'], 'num')\n",
    "\n",
    "# cost_c.SetCoefficient(cost, 1)\n",
    "# size_c.SetCoefficient(size, 1)\n",
    "# num_c.SetCoefficient(num, 1)\n",
    "names_min = ['handling', 'positioning', 'joining']\n",
    "names_max = ['cost', 'size']\n",
    "\n",
    "const = [0] * (len(names_max) + len(names_min))\n",
    "for i in range(len(names_max)):\n",
    "    const[i] = solver.Constraint(0, constraints[names_max[i]], names_max[i])\n",
    "    for j in range(len(df)):\n",
    "        const[i].SetCoefficient(sol[j], float(df[names_max[i]][j]))\n",
    "        \n",
    "\n",
    "for i in range(len(names_min)):\n",
    "    const[i] = solver.Constraint(constraints[names_min[i]], solver.infinity(), names_min[i])\n",
    "    for j in range(len(df)):\n",
    "        const[i].SetCoefficient(sol[j], float(df[names_min[i]][j]))\n",
    "\n",
    "print('Number of constraints:', solver.NumConstraints())"
   ]
  },
  {
   "cell_type": "markdown",
   "metadata": {},
   "source": [
    "## fitness function\n",
    "\\begin{equation}\n",
    "f = \\sum_{r \\in \\mathcal{R}} \\frac{c_r}{C_m} + \\frac{s_r}{S_m} \\\\\n",
    "\\text{with:} \\\\\n",
    "\\text{f = fitness} \\\\\n",
    "\\text{c = cost} \\\\\n",
    "\\text{s = size}\n",
    "\\end{equation}"
   ]
  },
  {
   "cell_type": "code",
   "execution_count": 36,
   "metadata": {},
   "outputs": [],
   "source": [
    "def fitness(sol):\n",
    "    f = sum(sol['cost'] / constraints['max_cost'] + sol['size'] / constraints['max_size'])\n",
    "    return f"
   ]
  },
  {
   "cell_type": "code",
   "execution_count": 40,
   "metadata": {},
   "outputs": [],
   "source": [
    "# create objective function, minimize fitness\n",
    "# objective_fitness = solver.Objective()\n",
    "# objective_fitness.SetCoefficient(const[0], \n",
    "# objective_fitness.SetMinimization()"
   ]
  },
  {
   "cell_type": "code",
   "execution_count": 62,
   "metadata": {},
   "outputs": [
    {
     "name": "stdout",
     "output_type": "stream",
     "text": [
      "Solution:\n",
      "Number of robots: 8.0\n",
      "robot21 \tnum: 3.0 \tcost: 1382 € \tsize: 0.22 m2\n",
      "robot169 \tnum: 5.0 \tcost: 1436 € \tsize: 0.01 m2\n",
      "Cost = 2818 €\n",
      "Size = 0.23 m2\n",
      "Handling = 8.0 / 8\n",
      "Positioning = 5.0 / 5\n",
      "Joining = 3.0 / 3\n"
     ]
    }
   ],
   "source": [
    "solver.Solve()\n",
    "print('Solution:')\n",
    "print('Number of robots:', objective_num.Value())\n",
    "\n",
    "cost = 0\n",
    "size = 0\n",
    "handling = 0\n",
    "positioning = 0\n",
    "joining = 0\n",
    "for i in range(len(sol)):\n",
    "    if sol[i].solution_value() > 0: \n",
    "        c = df.loc[df.name==str(sol[i]), 'cost'].item()\n",
    "        s = df.loc[df.name==str(sol[i]), 'size'].item()\n",
    "        handling += df.loc[df.name==str(sol[i]), 'handling'].item() * sol[i].solution_value()\n",
    "        positioning += df.loc[df.name==str(sol[i]), 'positioning'].item() * sol[i].solution_value()\n",
    "        joining += df.loc[df.name==str(sol[i]), 'joining'].item() * sol[i].solution_value()\n",
    "        print(sol[i], '\\tnum:', sol[i].solution_value(), '\\tcost:', c, '€', '\\tsize:', s, 'm2' )\n",
    "        cost += c\n",
    "        size += s\n",
    "\n",
    "print('Cost =', cost, '€')\n",
    "print('Size =', round(size, 3), 'm2')\n",
    "print('Handling =', handling, '/', constraints['handling'])\n",
    "print('Positioning =', positioning, '/', constraints['positioning'])\n",
    "print('Joining =', joining, '/', constraints['joining'])"
   ]
  },
  {
   "cell_type": "code",
   "execution_count": 52,
   "metadata": {},
   "outputs": [
    {
     "data": {
      "text/html": [
       "<div>\n",
       "<style scoped>\n",
       "    .dataframe tbody tr th:only-of-type {\n",
       "        vertical-align: middle;\n",
       "    }\n",
       "\n",
       "    .dataframe tbody tr th {\n",
       "        vertical-align: top;\n",
       "    }\n",
       "\n",
       "    .dataframe thead th {\n",
       "        text-align: right;\n",
       "    }\n",
       "</style>\n",
       "<table border=\"1\" class=\"dataframe\">\n",
       "  <thead>\n",
       "    <tr style=\"text-align: right;\">\n",
       "      <th></th>\n",
       "      <th>name</th>\n",
       "      <th>cost</th>\n",
       "      <th>size</th>\n",
       "      <th>handling</th>\n",
       "      <th>positioning</th>\n",
       "      <th>joining</th>\n",
       "    </tr>\n",
       "  </thead>\n",
       "  <tbody>\n",
       "    <tr>\n",
       "      <th>21</th>\n",
       "      <td>robot21</td>\n",
       "      <td>1382</td>\n",
       "      <td>0.22</td>\n",
       "      <td>1</td>\n",
       "      <td>0</td>\n",
       "      <td>1</td>\n",
       "    </tr>\n",
       "    <tr>\n",
       "      <th>169</th>\n",
       "      <td>robot169</td>\n",
       "      <td>1436</td>\n",
       "      <td>0.01</td>\n",
       "      <td>1</td>\n",
       "      <td>1</td>\n",
       "      <td>0</td>\n",
       "    </tr>\n",
       "  </tbody>\n",
       "</table>\n",
       "</div>"
      ],
      "text/plain": [
       "         name  cost  size  handling  positioning  joining\n",
       "21    robot21  1382  0.22         1            0        1\n",
       "169  robot169  1436  0.01         1            1        0"
      ]
     },
     "execution_count": 52,
     "metadata": {},
     "output_type": "execute_result"
    }
   ],
   "source": [
    "df.loc[df.name.isin(['robot21', 'robot169']), :]"
   ]
  }
 ],
 "metadata": {
  "kernelspec": {
   "display_name": "Python 3",
   "language": "python",
   "name": "python3"
  },
  "language_info": {
   "codemirror_mode": {
    "name": "ipython",
    "version": 3
   },
   "file_extension": ".py",
   "mimetype": "text/x-python",
   "name": "python",
   "nbconvert_exporter": "python",
   "pygments_lexer": "ipython3",
   "version": "3.7.3"
  }
 },
 "nbformat": 4,
 "nbformat_minor": 4
}
