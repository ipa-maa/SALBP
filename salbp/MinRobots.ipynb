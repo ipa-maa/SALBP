{
 "cells": [
  {
   "cell_type": "code",
   "execution_count": 3,
   "metadata": {
    "collapsed": true,
    "jupyter": {
     "outputs_hidden": true
    }
   },
   "outputs": [
    {
     "name": "stdout",
     "output_type": "stream",
     "text": [
      "Requirement already up-to-date: ortools in /home/maa/miniconda3/envs/pytorch/lib/python3.7/site-packages (7.2.6977)\n",
      "Collecting pandas\n",
      "\u001b[?25l  Downloading https://files.pythonhosted.org/packages/22/e6/2d47835f91eb010036be207581fa113fb4e3822ec1b4bafb0d3d105fede6/pandas-0.24.2-cp37-cp37m-manylinux1_x86_64.whl (10.1MB)\n",
      "\u001b[K     |████████████████████████████████| 10.1MB 7.4MB/s \n",
      "\u001b[?25hRequirement already satisfied, skipping upgrade: six>=1.10 in /home/maa/miniconda3/envs/pytorch/lib/python3.7/site-packages (from ortools) (1.12.0)\n",
      "Requirement already satisfied, skipping upgrade: protobuf>=3.8.0 in /home/maa/miniconda3/envs/pytorch/lib/python3.7/site-packages (from ortools) (3.9.0)\n",
      "Requirement already satisfied, skipping upgrade: python-dateutil>=2.5.0 in /home/maa/miniconda3/envs/pytorch/lib/python3.7/site-packages (from pandas) (2.8.0)\n",
      "Requirement already satisfied, skipping upgrade: pytz>=2011k in /home/maa/miniconda3/envs/pytorch/lib/python3.7/site-packages (from pandas) (2019.1)\n",
      "Requirement already satisfied, skipping upgrade: numpy>=1.12.0 in /home/maa/miniconda3/envs/pytorch/lib/python3.7/site-packages (from pandas) (1.16.4)\n",
      "Requirement already satisfied, skipping upgrade: setuptools in /home/maa/miniconda3/envs/pytorch/lib/python3.7/site-packages (from protobuf>=3.8.0->ortools) (41.0.1)\n",
      "Installing collected packages: pandas\n",
      "Successfully installed pandas-0.24.2\n"
     ]
    }
   ],
   "source": [
    "!pip install -U ortools pandas"
   ]
  },
  {
   "cell_type": "code",
   "execution_count": 1,
   "metadata": {},
   "outputs": [
    {
     "data": {
      "text/html": [
       "<div>\n",
       "<style scoped>\n",
       "    .dataframe tbody tr th:only-of-type {\n",
       "        vertical-align: middle;\n",
       "    }\n",
       "\n",
       "    .dataframe tbody tr th {\n",
       "        vertical-align: top;\n",
       "    }\n",
       "\n",
       "    .dataframe thead th {\n",
       "        text-align: right;\n",
       "    }\n",
       "</style>\n",
       "<table border=\"1\" class=\"dataframe\">\n",
       "  <thead>\n",
       "    <tr style=\"text-align: right;\">\n",
       "      <th></th>\n",
       "      <th>name</th>\n",
       "      <th>cost</th>\n",
       "      <th>size</th>\n",
       "      <th>handling</th>\n",
       "      <th>positioning</th>\n",
       "      <th>joining</th>\n",
       "    </tr>\n",
       "  </thead>\n",
       "  <tbody>\n",
       "    <tr>\n",
       "      <th>0</th>\n",
       "      <td>robot0</td>\n",
       "      <td>6787</td>\n",
       "      <td>9.98</td>\n",
       "      <td>0</td>\n",
       "      <td>0</td>\n",
       "      <td>0</td>\n",
       "    </tr>\n",
       "    <tr>\n",
       "      <th>1</th>\n",
       "      <td>robot1</td>\n",
       "      <td>4325</td>\n",
       "      <td>0.42</td>\n",
       "      <td>1</td>\n",
       "      <td>0</td>\n",
       "      <td>1</td>\n",
       "    </tr>\n",
       "    <tr>\n",
       "      <th>2</th>\n",
       "      <td>robot2</td>\n",
       "      <td>8409</td>\n",
       "      <td>1.20</td>\n",
       "      <td>1</td>\n",
       "      <td>1</td>\n",
       "      <td>0</td>\n",
       "    </tr>\n",
       "    <tr>\n",
       "      <th>3</th>\n",
       "      <td>robot3</td>\n",
       "      <td>4714</td>\n",
       "      <td>8.71</td>\n",
       "      <td>0</td>\n",
       "      <td>0</td>\n",
       "      <td>0</td>\n",
       "    </tr>\n",
       "    <tr>\n",
       "      <th>4</th>\n",
       "      <td>robot4</td>\n",
       "      <td>1278</td>\n",
       "      <td>0.68</td>\n",
       "      <td>1</td>\n",
       "      <td>0</td>\n",
       "      <td>0</td>\n",
       "    </tr>\n",
       "    <tr>\n",
       "      <th>5</th>\n",
       "      <td>robot5</td>\n",
       "      <td>9241</td>\n",
       "      <td>8.38</td>\n",
       "      <td>0</td>\n",
       "      <td>0</td>\n",
       "      <td>1</td>\n",
       "    </tr>\n",
       "    <tr>\n",
       "      <th>6</th>\n",
       "      <td>robot6</td>\n",
       "      <td>4725</td>\n",
       "      <td>7.91</td>\n",
       "      <td>0</td>\n",
       "      <td>1</td>\n",
       "      <td>1</td>\n",
       "    </tr>\n",
       "    <tr>\n",
       "      <th>7</th>\n",
       "      <td>robot7</td>\n",
       "      <td>5569</td>\n",
       "      <td>0.43</td>\n",
       "      <td>0</td>\n",
       "      <td>0</td>\n",
       "      <td>1</td>\n",
       "    </tr>\n",
       "    <tr>\n",
       "      <th>8</th>\n",
       "      <td>robot8</td>\n",
       "      <td>9610</td>\n",
       "      <td>6.49</td>\n",
       "      <td>0</td>\n",
       "      <td>0</td>\n",
       "      <td>0</td>\n",
       "    </tr>\n",
       "    <tr>\n",
       "      <th>9</th>\n",
       "      <td>robot9</td>\n",
       "      <td>9651</td>\n",
       "      <td>4.94</td>\n",
       "      <td>1</td>\n",
       "      <td>0</td>\n",
       "      <td>0</td>\n",
       "    </tr>\n",
       "  </tbody>\n",
       "</table>\n",
       "</div>"
      ],
      "text/plain": [
       "     name  cost  size  handling  positioning  joining\n",
       "0  robot0  6787  9.98         0            0        0\n",
       "1  robot1  4325  0.42         1            0        1\n",
       "2  robot2  8409  1.20         1            1        0\n",
       "3  robot3  4714  8.71         0            0        0\n",
       "4  robot4  1278  0.68         1            0        0\n",
       "5  robot5  9241  8.38         0            0        1\n",
       "6  robot6  4725  7.91         0            1        1\n",
       "7  robot7  5569  0.43         0            0        1\n",
       "8  robot8  9610  6.49         0            0        0\n",
       "9  robot9  9651  4.94         1            0        0"
      ]
     },
     "execution_count": 1,
     "metadata": {},
     "output_type": "execute_result"
    }
   ],
   "source": [
    "import numpy as np\n",
    "import pandas as pd\n",
    "from ortools.linear_solver import pywraplp\n",
    "\n",
    "np.random.seed(12)\n",
    "samples = 500\n",
    "probability = 0.2\n",
    "\n",
    "index = ['name', 'cost', 'size', 'handling', 'positioning', 'joining']\n",
    "names = ['robot' + str(i) for i in range(samples)]\n",
    "costs = np.random.randint(1000, 10000, size=(samples)).tolist()\n",
    "handling = np.random.binomial(1, probability, samples)\n",
    "positioning = np.random.binomial(1, probability, samples)\n",
    "joining = np.random.binomial(1, probability, samples)\n",
    "sizes = np.round(np.random.rand((samples)) * 10, 2)\n",
    "\n",
    "df = pd.DataFrame({'name': names, 'cost': costs, 'size': sizes, 'handling': handling, 'positioning': positioning, 'joining': joining})\n",
    "df.head(10)"
   ]
  },
  {
   "cell_type": "code",
   "execution_count": 2,
   "metadata": {},
   "outputs": [],
   "source": [
    "constraints = {'cost': 20000, 'size': 10.0, 'max_num': 5, 'handling': 8, 'positioning': 5, 'joining': 3}"
   ]
  },
  {
   "cell_type": "code",
   "execution_count": 3,
   "metadata": {},
   "outputs": [
    {
     "data": {
      "text/plain": [
       "<ortools.linear_solver.pywraplp.Solver; proxy of <Swig Object of type 'operations_research::MPSolver *' at 0x7f9e691d9420> >"
      ]
     },
     "execution_count": 3,
     "metadata": {},
     "output_type": "execute_result"
    }
   ],
   "source": [
    "solver = pywraplp.Solver('simple_lp_programm', pywraplp.Solver.CBC_MIXED_INTEGER_PROGRAMMING)\n",
    "solver"
   ]
  },
  {
   "cell_type": "markdown",
   "metadata": {},
   "source": [
    "### Create Variables\n",
    "for every robot in the `df` set one variable which corresponds to the number of occurences for this robot. At first every variable is 1, then it will be minimized.\n",
    "[example](https://developers.google.com/optimization/mip/integer_opt)"
   ]
  },
  {
   "cell_type": "code",
   "execution_count": 4,
   "metadata": {},
   "outputs": [
    {
     "name": "stdout",
     "output_type": "stream",
     "text": [
      "Number of variables: 500\n"
     ]
    }
   ],
   "source": [
    "solver.Clear()\n",
    "# fitness = solver.NumVar(0, solver.infinity(), 'fitness')\n",
    "sol = [[]] * len(df)\n",
    "objective_num = solver.Objective()\n",
    "for i in range(0, len(df)):\n",
    "    sol[i] = solver.IntVar(0, solver.infinity(), df['name'][i])\n",
    "    objective_num.SetCoefficient(sol[i], 1)\n",
    "objective_num.SetMinimization()\n",
    "# cost = solver.NumVar(0, constraints['max_cost'], 'cost')\n",
    "# size = solver.NumVar(0, constraints['max_size'], 'size')\n",
    "# num = solver.IntVar(0, constraints['max_num'], 'num')\n",
    "\n",
    "print('Number of variables:', solver.NumVariables())"
   ]
  },
  {
   "cell_type": "markdown",
   "metadata": {},
   "source": [
    "### create constraints\n",
    "necessary:\n",
    "\n",
    "cost $c$, size $s$ and num $n$\n",
    "\n",
    "\n",
    "\\begin{equation}\n",
    "0 \\leq c \\leq c_{max} \\qquad \\in [0..20000] \\\\\n",
    "0 \\leq s \\leq s_{max} \\qquad \\in [0..10] \\\\\n",
    "0 \\leq n \\leq n_{max} \\qquad \\in \\{ 0..5 \\}\n",
    "\\end{equation}\n",
    "\n",
    "and the number of handling, positionig and joining resources must be:\n",
    "\n",
    "\\begin{equation}\n",
    "h_{min} \\leq h \\\\\n",
    "p_{min} \\leq p \\\\\n",
    "j_{min} \\leq j\n",
    "\\end{equation}"
   ]
  },
  {
   "cell_type": "code",
   "execution_count": 5,
   "metadata": {},
   "outputs": [
    {
     "name": "stdout",
     "output_type": "stream",
     "text": [
      "Number of constraints: 5\n"
     ]
    }
   ],
   "source": [
    "# create constraints\n",
    "# cost_c = solver.Constraint(0, constraints['max_cost'], 'cost')\n",
    "# size_c = solver.Constraint(0, constraints['max_size'], 'size')\n",
    "# num_c = solver.Constraint(0, constraints['max_num'], 'num')\n",
    "\n",
    "# cost_c.SetCoefficient(cost, 1)\n",
    "# size_c.SetCoefficient(size, 1)\n",
    "# num_c.SetCoefficient(num, 1)\n",
    "names_min = ['handling', 'positioning', 'joining']\n",
    "names_max = ['cost', 'size']\n",
    "\n",
    "const = [0] * (len(names_max) + len(names_min))\n",
    "for i in range(len(names_max)):\n",
    "    const[i] = solver.Constraint(0, constraints[names_max[i]], names_max[i])\n",
    "    for j in range(len(df)):\n",
    "        const[i].SetCoefficient(sol[j], float(df[names_max[i]][j]))\n",
    "        \n",
    "\n",
    "for i in range(len(names_min)):\n",
    "    const[i] = solver.Constraint(constraints[names_min[i]], solver.infinity(), names_min[i])\n",
    "    for j in range(len(df)):\n",
    "        const[i].SetCoefficient(sol[j], float(df[names_min[i]][j]))\n",
    "\n",
    "print('Number of constraints:', solver.NumConstraints())"
   ]
  },
  {
   "cell_type": "code",
   "execution_count": 6,
   "metadata": {},
   "outputs": [
    {
     "name": "stdout",
     "output_type": "stream",
     "text": [
      "Solution:\n",
      "Number of robots: 9.0\n",
      "robot4     | num: 4.0   | cost: 1278  € | size: 0.68  m2\n",
      "robot190   | num: 3.0   | cost: 2816  € | size: 1.75  m2\n",
      "robot224   | num: 1.0   | cost: 5401  € | size: 0.56  m2\n",
      "robot477   | num: 1.0   | cost: 1034  € | size: 0.84  m2\n",
      "Cost = 10529 €\n",
      "Size = 3.83 m2\n",
      "Handling = 8.0 / 8\n",
      "Positioning = 5.0 / 5\n",
      "Joining = 3.0 / 3\n"
     ]
    }
   ],
   "source": [
    "result_status = solver.Solve()\n",
    "# The problem has an optimal solution.\n",
    "assert result_status == pywraplp.Solver.OPTIMAL\n",
    "\n",
    "# The solution looks legit (when using solvers others than\n",
    "# GLOP_LINEAR_PROGRAMMING, verifying the solution is highly recommended!).\n",
    "assert solver.VerifySolution(1e-7, True)\n",
    "\n",
    "print('Solution:')\n",
    "print('Number of robots:', objective_num.Value())\n",
    "\n",
    "cost = 0\n",
    "size = 0\n",
    "handling = 0\n",
    "positioning = 0\n",
    "joining = 0\n",
    "robots = []\n",
    "for i in range(len(df)):\n",
    "    if sol[i].solution_value() > 0: \n",
    "        c = df.loc[df.name==str(sol[i]), 'cost'].item()\n",
    "        s = df.loc[df.name==str(sol[i]), 'size'].item()\n",
    "        handling += df.loc[df.name==str(sol[i]), 'handling'].item() * sol[i].solution_value()\n",
    "        positioning += df.loc[df.name==str(sol[i]), 'positioning'].item() * sol[i].solution_value()\n",
    "        joining += df.loc[df.name==str(sol[i]), 'joining'].item() * sol[i].solution_value()\n",
    "        robots.append(str(sol[i]))\n",
    "        print('{:<10} | num: {:<5} | cost: {:<5} € | size: {:<5} m2'.format(str(sol[i]), sol[i].solution_value(), c, s))\n",
    "        cost += c\n",
    "        size += s\n",
    "\n",
    "print('Cost =', cost, '€')\n",
    "print('Size =', round(size, 3), 'm2')\n",
    "print('Handling =', handling, '/', constraints['handling'])\n",
    "print('Positioning =', positioning, '/', constraints['positioning'])\n",
    "print('Joining =', joining, '/', constraints['joining'])"
   ]
  },
  {
   "cell_type": "markdown",
   "metadata": {},
   "source": [
    "**Objective here is to minimize the number of resources**"
   ]
  },
  {
   "cell_type": "code",
   "execution_count": 7,
   "metadata": {},
   "outputs": [
    {
     "data": {
      "text/html": [
       "<div>\n",
       "<style scoped>\n",
       "    .dataframe tbody tr th:only-of-type {\n",
       "        vertical-align: middle;\n",
       "    }\n",
       "\n",
       "    .dataframe tbody tr th {\n",
       "        vertical-align: top;\n",
       "    }\n",
       "\n",
       "    .dataframe thead th {\n",
       "        text-align: right;\n",
       "    }\n",
       "</style>\n",
       "<table border=\"1\" class=\"dataframe\">\n",
       "  <thead>\n",
       "    <tr style=\"text-align: right;\">\n",
       "      <th></th>\n",
       "      <th>name</th>\n",
       "      <th>cost</th>\n",
       "      <th>size</th>\n",
       "      <th>handling</th>\n",
       "      <th>positioning</th>\n",
       "      <th>joining</th>\n",
       "    </tr>\n",
       "  </thead>\n",
       "  <tbody>\n",
       "    <tr>\n",
       "      <th>4</th>\n",
       "      <td>robot4</td>\n",
       "      <td>1278</td>\n",
       "      <td>0.68</td>\n",
       "      <td>1</td>\n",
       "      <td>0</td>\n",
       "      <td>0</td>\n",
       "    </tr>\n",
       "    <tr>\n",
       "      <th>190</th>\n",
       "      <td>robot190</td>\n",
       "      <td>2816</td>\n",
       "      <td>1.75</td>\n",
       "      <td>1</td>\n",
       "      <td>1</td>\n",
       "      <td>1</td>\n",
       "    </tr>\n",
       "    <tr>\n",
       "      <th>224</th>\n",
       "      <td>robot224</td>\n",
       "      <td>5401</td>\n",
       "      <td>0.56</td>\n",
       "      <td>1</td>\n",
       "      <td>1</td>\n",
       "      <td>0</td>\n",
       "    </tr>\n",
       "    <tr>\n",
       "      <th>477</th>\n",
       "      <td>robot477</td>\n",
       "      <td>1034</td>\n",
       "      <td>0.84</td>\n",
       "      <td>0</td>\n",
       "      <td>1</td>\n",
       "      <td>0</td>\n",
       "    </tr>\n",
       "  </tbody>\n",
       "</table>\n",
       "</div>"
      ],
      "text/plain": [
       "         name  cost  size  handling  positioning  joining\n",
       "4      robot4  1278  0.68         1            0        0\n",
       "190  robot190  2816  1.75         1            1        1\n",
       "224  robot224  5401  0.56         1            1        0\n",
       "477  robot477  1034  0.84         0            1        0"
      ]
     },
     "execution_count": 7,
     "metadata": {},
     "output_type": "execute_result"
    }
   ],
   "source": [
    "df.loc[df.name.isin(robots), :]"
   ]
  }
 ],
 "metadata": {
  "kernelspec": {
   "display_name": "Python 3",
   "language": "python",
   "name": "python3"
  },
  "language_info": {
   "codemirror_mode": {
    "name": "ipython",
    "version": 3
   },
   "file_extension": ".py",
   "mimetype": "text/x-python",
   "name": "python",
   "nbconvert_exporter": "python",
   "pygments_lexer": "ipython3",
   "version": "3.7.3"
  }
 },
 "nbformat": 4,
 "nbformat_minor": 4
}
