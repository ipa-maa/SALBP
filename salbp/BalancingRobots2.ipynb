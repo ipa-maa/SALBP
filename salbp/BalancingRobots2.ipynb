{
 "cells": [
  {
   "cell_type": "code",
   "execution_count": 1,
   "metadata": {},
   "outputs": [
    {
     "data": {
      "text/html": [
       "<div>\n",
       "<style scoped>\n",
       "    .dataframe tbody tr th:only-of-type {\n",
       "        vertical-align: middle;\n",
       "    }\n",
       "\n",
       "    .dataframe tbody tr th {\n",
       "        vertical-align: top;\n",
       "    }\n",
       "\n",
       "    .dataframe thead th {\n",
       "        text-align: right;\n",
       "    }\n",
       "</style>\n",
       "<table border=\"1\" class=\"dataframe\">\n",
       "  <thead>\n",
       "    <tr style=\"text-align: right;\">\n",
       "      <th></th>\n",
       "      <th>name</th>\n",
       "      <th>cost</th>\n",
       "      <th>size</th>\n",
       "      <th>handling</th>\n",
       "      <th>positioning</th>\n",
       "      <th>joining</th>\n",
       "    </tr>\n",
       "  </thead>\n",
       "  <tbody>\n",
       "    <tr>\n",
       "      <th>0</th>\n",
       "      <td>robot0</td>\n",
       "      <td>6787</td>\n",
       "      <td>9.98</td>\n",
       "      <td>0</td>\n",
       "      <td>0</td>\n",
       "      <td>0</td>\n",
       "    </tr>\n",
       "    <tr>\n",
       "      <th>1</th>\n",
       "      <td>robot1</td>\n",
       "      <td>4325</td>\n",
       "      <td>0.42</td>\n",
       "      <td>1</td>\n",
       "      <td>0</td>\n",
       "      <td>1</td>\n",
       "    </tr>\n",
       "    <tr>\n",
       "      <th>2</th>\n",
       "      <td>robot2</td>\n",
       "      <td>8409</td>\n",
       "      <td>1.20</td>\n",
       "      <td>1</td>\n",
       "      <td>1</td>\n",
       "      <td>0</td>\n",
       "    </tr>\n",
       "    <tr>\n",
       "      <th>3</th>\n",
       "      <td>robot3</td>\n",
       "      <td>4714</td>\n",
       "      <td>8.71</td>\n",
       "      <td>0</td>\n",
       "      <td>0</td>\n",
       "      <td>0</td>\n",
       "    </tr>\n",
       "    <tr>\n",
       "      <th>4</th>\n",
       "      <td>robot4</td>\n",
       "      <td>1278</td>\n",
       "      <td>0.68</td>\n",
       "      <td>1</td>\n",
       "      <td>0</td>\n",
       "      <td>0</td>\n",
       "    </tr>\n",
       "    <tr>\n",
       "      <th>5</th>\n",
       "      <td>robot5</td>\n",
       "      <td>9241</td>\n",
       "      <td>8.38</td>\n",
       "      <td>0</td>\n",
       "      <td>0</td>\n",
       "      <td>1</td>\n",
       "    </tr>\n",
       "    <tr>\n",
       "      <th>6</th>\n",
       "      <td>robot6</td>\n",
       "      <td>4725</td>\n",
       "      <td>7.91</td>\n",
       "      <td>0</td>\n",
       "      <td>1</td>\n",
       "      <td>1</td>\n",
       "    </tr>\n",
       "    <tr>\n",
       "      <th>7</th>\n",
       "      <td>robot7</td>\n",
       "      <td>5569</td>\n",
       "      <td>0.43</td>\n",
       "      <td>0</td>\n",
       "      <td>0</td>\n",
       "      <td>1</td>\n",
       "    </tr>\n",
       "    <tr>\n",
       "      <th>8</th>\n",
       "      <td>robot8</td>\n",
       "      <td>9610</td>\n",
       "      <td>6.49</td>\n",
       "      <td>0</td>\n",
       "      <td>0</td>\n",
       "      <td>0</td>\n",
       "    </tr>\n",
       "    <tr>\n",
       "      <th>9</th>\n",
       "      <td>robot9</td>\n",
       "      <td>9651</td>\n",
       "      <td>4.94</td>\n",
       "      <td>1</td>\n",
       "      <td>0</td>\n",
       "      <td>0</td>\n",
       "    </tr>\n",
       "  </tbody>\n",
       "</table>\n",
       "</div>"
      ],
      "text/plain": [
       "     name  cost  size  handling  positioning  joining\n",
       "0  robot0  6787  9.98         0            0        0\n",
       "1  robot1  4325  0.42         1            0        1\n",
       "2  robot2  8409  1.20         1            1        0\n",
       "3  robot3  4714  8.71         0            0        0\n",
       "4  robot4  1278  0.68         1            0        0\n",
       "5  robot5  9241  8.38         0            0        1\n",
       "6  robot6  4725  7.91         0            1        1\n",
       "7  robot7  5569  0.43         0            0        1\n",
       "8  robot8  9610  6.49         0            0        0\n",
       "9  robot9  9651  4.94         1            0        0"
      ]
     },
     "execution_count": 1,
     "metadata": {},
     "output_type": "execute_result"
    }
   ],
   "source": [
    "import numpy as np\n",
    "import pandas as pd\n",
    "from ortools.linear_solver import pywraplp\n",
    "\n",
    "np.random.seed(12)\n",
    "samples = 500\n",
    "probability = 0.2\n",
    "\n",
    "index = ['name', 'cost', 'size', 'handling', 'positioning', 'joining']\n",
    "names = ['robot' + str(i) for i in range(samples)]\n",
    "costs = np.random.randint(1000, 10000, size=(samples)).tolist()\n",
    "handling = np.random.binomial(1, probability, samples)\n",
    "positioning = np.random.binomial(1, probability, samples)\n",
    "joining = np.random.binomial(1, probability, samples)\n",
    "sizes = np.round(np.random.rand((samples)) * 10, 2)\n",
    "\n",
    "df = pd.DataFrame({'name': names, 'cost': costs, 'size': sizes, 'handling': handling, 'positioning': positioning, 'joining': joining})\n",
    "df.head(10)"
   ]
  },
  {
   "cell_type": "code",
   "execution_count": 2,
   "metadata": {},
   "outputs": [],
   "source": [
    "constraints = {'cost': 20000, 'size': 10.0, 'handling': 8, 'positioning': 5, 'joining': 3}"
   ]
  },
  {
   "cell_type": "markdown",
   "metadata": {},
   "source": [
    "## Create Variables"
   ]
  },
  {
   "cell_type": "code",
   "execution_count": 3,
   "metadata": {},
   "outputs": [
    {
     "name": "stdout",
     "output_type": "stream",
     "text": [
      "Number of variables: 500\n"
     ]
    }
   ],
   "source": [
    "solver = pywraplp.Solver('simple_lp_programm', pywraplp.Solver.CBC_MIXED_INTEGER_PROGRAMMING)\n",
    "solver.Clear()\n",
    "\n",
    "robot = [[]] * len(df)\n",
    "# create variables\n",
    "for i in range(len(df)):\n",
    "    robot[i] = solver.IntVar(0, solver.infinity(), df['name'][i])\n",
    "    \n",
    "print('Number of variables:', solver.NumVariables())"
   ]
  },
  {
   "cell_type": "markdown",
   "metadata": {},
   "source": [
    "## Fitness Function\n",
    "\\begin{equation}\n",
    "f = \\sum_{r \\in \\mathcal{R}} \\frac{c_r}{C_{max}} + \\frac{s_r}{S_{max}} \\\\\n",
    "\\text{with:} \\\\\n",
    "\\text{f = fitness} \\\\\n",
    "\\text{c = cost} \\\\\n",
    "\\text{s = size}\n",
    "\\end{equation}"
   ]
  },
  {
   "cell_type": "code",
   "execution_count": 4,
   "metadata": {},
   "outputs": [],
   "source": [
    "def fitness(robot):\n",
    "    l = lambda x: df.loc[df.name==str(robot), x].values[0]\n",
    "    f = l('cost') / constraints['cost'] + l('size') / constraints['size']\n",
    "    return f"
   ]
  },
  {
   "cell_type": "markdown",
   "metadata": {},
   "source": [
    "## Create Objective Function"
   ]
  },
  {
   "cell_type": "code",
   "execution_count": 5,
   "metadata": {},
   "outputs": [],
   "source": [
    "# create objective function\n",
    "solver.Minimize(solver.Sum( [fitness(robot[i]) for i in range(len(robot))] ))"
   ]
  },
  {
   "cell_type": "code",
   "execution_count": 6,
   "metadata": {},
   "outputs": [],
   "source": [
    "ll = lambda s: [robot[i] * df[s][i] for i in range(len(df))]"
   ]
  },
  {
   "cell_type": "markdown",
   "metadata": {},
   "source": [
    "## Create Constraints"
   ]
  },
  {
   "cell_type": "code",
   "execution_count": 7,
   "metadata": {},
   "outputs": [
    {
     "data": {
      "text/plain": [
       "<ortools.linear_solver.pywraplp.Constraint; proxy of <Swig Object of type 'operations_research::MPConstraint *' at 0x000001DF3176D4B0> >"
      ]
     },
     "execution_count": 7,
     "metadata": {},
     "output_type": "execute_result"
    }
   ],
   "source": [
    "# create constraints\n",
    "solver.Add(0 <= solver.Sum(ll('cost')) <= constraints['cost'])\n",
    "solver.Add(0 <= solver.Sum(ll('size')) <= constraints['size'])\n",
    "solver.Add(constraints['handling'] <= solver.Sum(ll('handling')))\n",
    "solver.Add(constraints['positioning'] <= solver.Sum(ll('positioning')))\n",
    "solver.Add(constraints['joining'] <= solver.Sum(ll('joining')))"
   ]
  },
  {
   "cell_type": "code",
   "execution_count": 8,
   "metadata": {},
   "outputs": [
    {
     "name": "stdout",
     "output_type": "stream",
     "text": [
      "Solution:\n",
      "Number of robots: 14.0\n",
      "robot4     | num: 7.0   | cost: 1278  € | size: 0.68  m2\n",
      "robot61    | num: 2.0   | cost: 1160  € | size: 0.16  m2\n",
      "robot190   | num: 1.0   | cost: 2816  € | size: 1.75  m2\n",
      "robot470   | num: 1.0   | cost: 1638  € | size: 0.41  m2\n",
      "robot477   | num: 3.0   | cost: 1034  € | size: 0.84  m2\n",
      "Cost = 7926 €\n",
      "Size = 3.84 m2\n",
      "Handling = 8.0 / 8\n",
      "Positioning = 5.0 / 5\n",
      "Joining = 3.0 / 3\n"
     ]
    }
   ],
   "source": [
    "result_status = solver.Solve()\n",
    "# The problem has an optimal solution.\n",
    "assert result_status == pywraplp.Solver.OPTIMAL\n",
    "\n",
    "# The solution looks legit (when using solvers others than\n",
    "# GLOP_LINEAR_PROGRAMMING, verifying the solution is highly recommended!).\n",
    "assert solver.VerifySolution(1e-4, True)\n",
    "\n",
    "print('Solution:')\n",
    "print('Number of robots:', sum([robot[i].solution_value() for i in range(len(robot))]))\n",
    "\n",
    "cost = 0\n",
    "size = 0\n",
    "handling = 0\n",
    "positioning = 0\n",
    "joining = 0\n",
    "robots = []\n",
    "for i in range(len(df)):\n",
    "    if robot[i].solution_value() > 0: \n",
    "        c = df.loc[df.name==str(robot[i]), 'cost'].values[0]\n",
    "        s = df.loc[df.name==str(robot[i]), 'size'].values[0]\n",
    "        handling += df.loc[df.name==str(robot[i]), 'handling'].values[0] * robot[i].solution_value()\n",
    "        positioning += df.loc[df.name==str(robot[i]), 'positioning'].values[0] * robot[i].solution_value()\n",
    "        joining += df.loc[df.name==str(robot[i]), 'joining'].values[0] * robot[i].solution_value()\n",
    "        robots.append(str(robot[i]))\n",
    "        print('{:<10} | num: {:<5} | cost: {:<5} € | size: {:<5} m2'.format(str(robot[i]), robot[i].solution_value(), c, s))\n",
    "        cost += c\n",
    "        size += s\n",
    "\n",
    "print('Cost =', cost, '€')\n",
    "print('Size =', round(size, 3), 'm2')\n",
    "print('Handling =', handling, '/', constraints['handling'])\n",
    "print('Positioning =', positioning, '/', constraints['positioning'])\n",
    "print('Joining =', joining, '/', constraints['joining'])"
   ]
  },
  {
   "cell_type": "markdown",
   "metadata": {},
   "source": [
    "**Objective here is to minimize the fitness function**"
   ]
  },
  {
   "cell_type": "code",
   "execution_count": 9,
   "metadata": {},
   "outputs": [
    {
     "data": {
      "text/html": [
       "<div>\n",
       "<style scoped>\n",
       "    .dataframe tbody tr th:only-of-type {\n",
       "        vertical-align: middle;\n",
       "    }\n",
       "\n",
       "    .dataframe tbody tr th {\n",
       "        vertical-align: top;\n",
       "    }\n",
       "\n",
       "    .dataframe thead th {\n",
       "        text-align: right;\n",
       "    }\n",
       "</style>\n",
       "<table border=\"1\" class=\"dataframe\">\n",
       "  <thead>\n",
       "    <tr style=\"text-align: right;\">\n",
       "      <th></th>\n",
       "      <th>name</th>\n",
       "      <th>cost</th>\n",
       "      <th>size</th>\n",
       "      <th>handling</th>\n",
       "      <th>positioning</th>\n",
       "      <th>joining</th>\n",
       "    </tr>\n",
       "  </thead>\n",
       "  <tbody>\n",
       "    <tr>\n",
       "      <th>4</th>\n",
       "      <td>robot4</td>\n",
       "      <td>1278</td>\n",
       "      <td>0.68</td>\n",
       "      <td>1</td>\n",
       "      <td>0</td>\n",
       "      <td>0</td>\n",
       "    </tr>\n",
       "    <tr>\n",
       "      <th>61</th>\n",
       "      <td>robot61</td>\n",
       "      <td>1160</td>\n",
       "      <td>0.16</td>\n",
       "      <td>0</td>\n",
       "      <td>0</td>\n",
       "      <td>1</td>\n",
       "    </tr>\n",
       "    <tr>\n",
       "      <th>190</th>\n",
       "      <td>robot190</td>\n",
       "      <td>2816</td>\n",
       "      <td>1.75</td>\n",
       "      <td>1</td>\n",
       "      <td>1</td>\n",
       "      <td>1</td>\n",
       "    </tr>\n",
       "    <tr>\n",
       "      <th>470</th>\n",
       "      <td>robot470</td>\n",
       "      <td>1638</td>\n",
       "      <td>0.41</td>\n",
       "      <td>0</td>\n",
       "      <td>1</td>\n",
       "      <td>0</td>\n",
       "    </tr>\n",
       "    <tr>\n",
       "      <th>477</th>\n",
       "      <td>robot477</td>\n",
       "      <td>1034</td>\n",
       "      <td>0.84</td>\n",
       "      <td>0</td>\n",
       "      <td>1</td>\n",
       "      <td>0</td>\n",
       "    </tr>\n",
       "  </tbody>\n",
       "</table>\n",
       "</div>"
      ],
      "text/plain": [
       "         name  cost  size  handling  positioning  joining\n",
       "4      robot4  1278  0.68         1            0        0\n",
       "61    robot61  1160  0.16         0            0        1\n",
       "190  robot190  2816  1.75         1            1        1\n",
       "470  robot470  1638  0.41         0            1        0\n",
       "477  robot477  1034  0.84         0            1        0"
      ]
     },
     "execution_count": 9,
     "metadata": {},
     "output_type": "execute_result"
    }
   ],
   "source": [
    "df.loc[df.name.isin(robots), :]"
   ]
  }
 ],
 "metadata": {
  "kernelspec": {
   "display_name": "Python 3",
   "language": "python",
   "name": "python3"
  },
  "language_info": {
   "codemirror_mode": {
    "name": "ipython",
    "version": 3
   },
   "file_extension": ".py",
   "mimetype": "text/x-python",
   "name": "python",
   "nbconvert_exporter": "python",
   "pygments_lexer": "ipython3",
   "version": "3.7.3"
  }
 },
 "nbformat": 4,
 "nbformat_minor": 4
}
