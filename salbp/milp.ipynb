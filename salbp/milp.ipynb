{
 "cells": [
  {
   "cell_type": "code",
   "execution_count": 52,
   "metadata": {
    "collapsed": true,
    "jupyter": {
     "outputs_hidden": true
    }
   },
   "outputs": [
    {
     "name": "stdout",
     "output_type": "stream",
     "text": [
      "Collecting ortools\n",
      "\u001b[?25l  Downloading https://files.pythonhosted.org/packages/ed/cd/ecc032a72352888f764b02df2c605efdcbca8e6d7991417facf761675d38/ortools-7.2.6977-cp37-cp37m-manylinux1_x86_64.whl (27.3MB)\n",
      "\u001b[K     |████████████████████████████████| 27.3MB 12.1MB/s eta 0:00:01   |█▍                              | 1.2MB 3.0MB/s eta 0:00:09     |██▏                             | 1.9MB 3.0MB/s eta 0:00:09     |████████████▎                   | 10.5MB 3.0MB/s eta 0:00:06     |█████████████▋                  | 11.6MB 3.0MB/s eta 0:00:06     |██████████████████▉             | 16.1MB 10.6MB/s eta 0:00:02     |██████████████████████▎         | 19.0MB 10.6MB/s eta 0:00:01     |█████████████████████████▎      | 21.6MB 10.6MB/s eta 0:00:01     |████████████████████████████▏   | 24.0MB 12.1MB/s eta 0:00:01     |█████████████████████████████▋  | 25.3MB 12.1MB/s eta 0:00:01     |███████████████████████████████ | 26.5MB 12.1MB/s eta 0:00:01     |███████████████████████████████▊| 27.1MB 12.1MB/s eta 0:00:01\n",
      "\u001b[?25hCollecting protobuf>=3.8.0 (from ortools)\n",
      "\u001b[?25l  Downloading https://files.pythonhosted.org/packages/95/ad/682b9dd1bc94cc7d1ecab8bee83ae8e6ae16161ff7a4131207ae96e256bb/protobuf-3.9.0-cp37-cp37m-manylinux1_x86_64.whl (1.2MB)\n",
      "\u001b[K     |████████████████████████████████| 1.2MB 12.9MB/s eta 0:00:01     |███████████████████████▏        | 890kB 12.9MB/s eta 0:00:01\n",
      "\u001b[?25hRequirement already satisfied, skipping upgrade: six>=1.10 in /home/albo/miniconda3/envs/pytorch/lib/python3.7/site-packages (from ortools) (1.12.0)\n",
      "Requirement already satisfied, skipping upgrade: setuptools in /home/albo/miniconda3/envs/pytorch/lib/python3.7/site-packages (from protobuf>=3.8.0->ortools) (41.0.1)\n",
      "Installing collected packages: protobuf, ortools\n",
      "Successfully installed ortools-7.2.6977 protobuf-3.9.0\n"
     ]
    }
   ],
   "source": [
    "!pip install -U ortools"
   ]
  },
  {
   "cell_type": "code",
   "execution_count": 5,
   "metadata": {},
   "outputs": [],
   "source": [
    "import numpy as np\n",
    "import pandas as pd\n",
    "from ortools.linear_solver import pywraplp"
   ]
  },
  {
   "cell_type": "code",
   "execution_count": 174,
   "metadata": {},
   "outputs": [],
   "source": [
    "np.random.seed(42)\n",
    "samples = 5000"
   ]
  },
  {
   "cell_type": "code",
   "execution_count": 7,
   "metadata": {},
   "outputs": [],
   "source": [
    "index = ['name', 'cost', 'size', 'handling', 'positioning', 'joining']\n",
    "names = ['robot' + str(i) for i in range(samples)]\n",
    "costs = np.random.randint(1000, 10000, size=(samples)).tolist()\n",
    "handling = np.random.binomial(1, 0.5, samples)\n",
    "positioning = np.random.binomial(1, 0.5, samples)\n",
    "joining = np.random.binomial(1, 0.5, samples)\n",
    "sizes = np.round(np.random.rand((samples)) * 10, 2)"
   ]
  },
  {
   "cell_type": "code",
   "execution_count": 35,
   "metadata": {},
   "outputs": [
    {
     "data": {
      "text/html": [
       "<div>\n",
       "<style scoped>\n",
       "    .dataframe tbody tr th:only-of-type {\n",
       "        vertical-align: middle;\n",
       "    }\n",
       "\n",
       "    .dataframe tbody tr th {\n",
       "        vertical-align: top;\n",
       "    }\n",
       "\n",
       "    .dataframe thead th {\n",
       "        text-align: right;\n",
       "    }\n",
       "</style>\n",
       "<table border=\"1\" class=\"dataframe\">\n",
       "  <thead>\n",
       "    <tr style=\"text-align: right;\">\n",
       "      <th></th>\n",
       "      <th>name</th>\n",
       "      <th>cost</th>\n",
       "      <th>size</th>\n",
       "      <th>handling</th>\n",
       "      <th>positioning</th>\n",
       "      <th>joining</th>\n",
       "    </tr>\n",
       "  </thead>\n",
       "  <tbody>\n",
       "    <tr>\n",
       "      <th>0</th>\n",
       "      <td>robot0</td>\n",
       "      <td>8270</td>\n",
       "      <td>3.49</td>\n",
       "      <td>1</td>\n",
       "      <td>0</td>\n",
       "      <td>0</td>\n",
       "    </tr>\n",
       "    <tr>\n",
       "      <th>1</th>\n",
       "      <td>robot1</td>\n",
       "      <td>1860</td>\n",
       "      <td>7.26</td>\n",
       "      <td>0</td>\n",
       "      <td>1</td>\n",
       "      <td>1</td>\n",
       "    </tr>\n",
       "    <tr>\n",
       "      <th>2</th>\n",
       "      <td>robot2</td>\n",
       "      <td>6390</td>\n",
       "      <td>8.97</td>\n",
       "      <td>1</td>\n",
       "      <td>0</td>\n",
       "      <td>1</td>\n",
       "    </tr>\n",
       "    <tr>\n",
       "      <th>3</th>\n",
       "      <td>robot3</td>\n",
       "      <td>6191</td>\n",
       "      <td>8.87</td>\n",
       "      <td>1</td>\n",
       "      <td>0</td>\n",
       "      <td>0</td>\n",
       "    </tr>\n",
       "    <tr>\n",
       "      <th>4</th>\n",
       "      <td>robot4</td>\n",
       "      <td>6734</td>\n",
       "      <td>7.80</td>\n",
       "      <td>0</td>\n",
       "      <td>0</td>\n",
       "      <td>0</td>\n",
       "    </tr>\n",
       "    <tr>\n",
       "      <th>5</th>\n",
       "      <td>robot5</td>\n",
       "      <td>7265</td>\n",
       "      <td>6.42</td>\n",
       "      <td>1</td>\n",
       "      <td>0</td>\n",
       "      <td>1</td>\n",
       "    </tr>\n",
       "    <tr>\n",
       "      <th>6</th>\n",
       "      <td>robot6</td>\n",
       "      <td>1466</td>\n",
       "      <td>0.84</td>\n",
       "      <td>1</td>\n",
       "      <td>1</td>\n",
       "      <td>0</td>\n",
       "    </tr>\n",
       "    <tr>\n",
       "      <th>7</th>\n",
       "      <td>robot7</td>\n",
       "      <td>5426</td>\n",
       "      <td>1.62</td>\n",
       "      <td>1</td>\n",
       "      <td>0</td>\n",
       "      <td>0</td>\n",
       "    </tr>\n",
       "    <tr>\n",
       "      <th>8</th>\n",
       "      <td>robot8</td>\n",
       "      <td>6578</td>\n",
       "      <td>8.99</td>\n",
       "      <td>1</td>\n",
       "      <td>1</td>\n",
       "      <td>0</td>\n",
       "    </tr>\n",
       "    <tr>\n",
       "      <th>9</th>\n",
       "      <td>robot9</td>\n",
       "      <td>9322</td>\n",
       "      <td>6.06</td>\n",
       "      <td>1</td>\n",
       "      <td>1</td>\n",
       "      <td>1</td>\n",
       "    </tr>\n",
       "  </tbody>\n",
       "</table>\n",
       "</div>"
      ],
      "text/plain": [
       "     name  cost  size  handling  positioning  joining\n",
       "0  robot0  8270  3.49         1            0        0\n",
       "1  robot1  1860  7.26         0            1        1\n",
       "2  robot2  6390  8.97         1            0        1\n",
       "3  robot3  6191  8.87         1            0        0\n",
       "4  robot4  6734  7.80         0            0        0\n",
       "5  robot5  7265  6.42         1            0        1\n",
       "6  robot6  1466  0.84         1            1        0\n",
       "7  robot7  5426  1.62         1            0        0\n",
       "8  robot8  6578  8.99         1            1        0\n",
       "9  robot9  9322  6.06         1            1        1"
      ]
     },
     "execution_count": 35,
     "metadata": {},
     "output_type": "execute_result"
    }
   ],
   "source": [
    "df = pd.DataFrame({'name': names, 'cost': costs, 'size': sizes, 'handling': handling, 'positioning': positioning, 'joining': joining})\n",
    "df.head(10)"
   ]
  },
  {
   "cell_type": "code",
   "execution_count": 77,
   "metadata": {},
   "outputs": [],
   "source": [
    "constraints = {'cost': 20000, 'size': 10.0, 'max_num': 5, 'handling': 8, 'positioning': 5, 'joining': 3}"
   ]
  },
  {
   "cell_type": "code",
   "execution_count": 26,
   "metadata": {},
   "outputs": [
    {
     "data": {
      "text/plain": [
       "<ortools.linear_solver.pywraplp.Solver; proxy of <Swig Object of type 'operations_research::MPSolver *' at 0x7f0c659c66f0> >"
      ]
     },
     "execution_count": 26,
     "metadata": {},
     "output_type": "execute_result"
    }
   ],
   "source": [
    "solver = pywraplp.Solver('simple_lp_programm', pywraplp.Solver.GLOP_LINEAR_PROGRAMMING)\n",
    "solver"
   ]
  },
  {
   "cell_type": "code",
   "execution_count": 107,
   "metadata": {},
   "outputs": [
    {
     "name": "stdout",
     "output_type": "stream",
     "text": [
      "Number of variables: 51\n"
     ]
    }
   ],
   "source": [
    "# create variables\n",
    "solver.Clear()\n",
    "fitness = solver.NumVar(0, solver.infinity(), 'fitness')\n",
    "sol = [[]] * len(df)\n",
    "objective_num = solver.Objective()\n",
    "for i in range(0, len(df)):\n",
    "    sol[i] = solver.IntVar(0, solver.infinity(), df['name'][i])\n",
    "    objective_num.SetCoefficient(sol[i], 1)\n",
    "objective_num.SetMinimization()\n",
    "# cost = solver.NumVar(0, constraints['max_cost'], 'cost')\n",
    "# size = solver.NumVar(0, constraints['max_size'], 'size')\n",
    "# num = solver.IntVar(0, constraints['max_num'], 'num')\n",
    "\n",
    "print('Number of variables:', solver.NumVariables())"
   ]
  },
  {
   "cell_type": "markdown",
   "metadata": {},
   "source": [
    "### create constraints\n",
    "necessary:\n",
    "\n",
    "cost $c$, size $s$ and num $n$\n",
    "\n",
    "\n",
    "\\begin{equation}\n",
    "0 \\leq c \\leq c_{max} \\qquad \\in [0..20000] \\\\\n",
    "0 \\leq s \\leq s_{max} \\qquad \\in [0..10] \\\\\n",
    "0 \\leq n \\leq n_{max} \\qquad \\in \\{ 0..5 \\}\n",
    "\\end{equation}"
   ]
  },
  {
   "cell_type": "code",
   "execution_count": 108,
   "metadata": {},
   "outputs": [
    {
     "name": "stdout",
     "output_type": "stream",
     "text": [
      "Number of constraints: 5\n"
     ]
    }
   ],
   "source": [
    "# create constraints\n",
    "# cost_c = solver.Constraint(0, constraints['max_cost'], 'cost')\n",
    "# size_c = solver.Constraint(0, constraints['max_size'], 'size')\n",
    "# num_c = solver.Constraint(0, constraints['max_num'], 'num')\n",
    "\n",
    "# cost_c.SetCoefficient(cost, 1)\n",
    "# size_c.SetCoefficient(size, 1)\n",
    "# num_c.SetCoefficient(num, 1)\n",
    "names_min = ['handling', 'positioning', 'joining']\n",
    "names_max = ['cost', 'size']\n",
    "\n",
    "const = [0] * (len(names_max) + len(names_min))\n",
    "for i in range(len(names_max)):\n",
    "    const[i] = solver.Constraint(0, constraints[names_max[i]], names_max[i])\n",
    "    for j in range(len(df)):\n",
    "        const[i].SetCoefficient(sol[j], float(df[names_max[i]][j]))\n",
    "        \n",
    "\n",
    "for i in range(len(names_min)):\n",
    "    const[i] = solver.Constraint(constraints[names_min[i]], solver.infinity(), names_min[i])\n",
    "    for j in range(len(df)):\n",
    "        const[i].SetCoefficient(sol[j], float(df[names_min[i]][j]))\n",
    "\n",
    "print('Number of constraints:', solver.NumConstraints())"
   ]
  },
  {
   "cell_type": "markdown",
   "metadata": {},
   "source": [
    "## fitness function\n",
    "\\begin{equation}\n",
    "f = \\sum_{r \\in \\mathcal{R}} \\frac{c_r}{C_m} + \\frac{s_r}{S_m} \\\\\n",
    "\\text{with:} \\\\\n",
    "\\text{f = fitness} \\\\\n",
    "\\text{c = cost} \\\\\n",
    "\\text{s = size}\n",
    "\\end{equation}"
   ]
  },
  {
   "cell_type": "code",
   "execution_count": 36,
   "metadata": {},
   "outputs": [],
   "source": [
    "def fitness(sol):\n",
    "    f = sum(sol['cost'] / constraints['max_cost'] + sol['size'] / constraints['max_size'])\n",
    "    return f"
   ]
  },
  {
   "cell_type": "code",
   "execution_count": 40,
   "metadata": {},
   "outputs": [],
   "source": [
    "# create objective function, minimize fitness\n",
    "# objective_fitness = solver.Objective()\n",
    "# objective_fitness.SetCoefficient(const[0], \n",
    "# objective_fitness.SetMinimization()"
   ]
  },
  {
   "cell_type": "code",
   "execution_count": 173,
   "metadata": {},
   "outputs": [
    {
     "name": "stdout",
     "output_type": "stream",
     "text": [
      "Solution:\n",
      "Number of robots: 9.257155061939345\n",
      "robot6 \tnum: 4.194646162608577 \tcost: 1466 € \tsize: 0.84 m2\n",
      "robot11 \tnum: 1.2571550619393437 \tcost: 1769 € \tsize: 1.01 m2\n",
      "robot41 \tnum: 1.7428449380606559 \tcost: 3612 € \tsize: 2.81 m2\n",
      "robot49 \tnum: 2.0625088993307688 \tcost: 2585 € \tsize: 0.15 m2\n",
      "Cost = 9432 €\n",
      "Size = 4.81 m2\n"
     ]
    }
   ],
   "source": [
    "solver.Solve()\n",
    "print('Solution:')\n",
    "print('Number of robots:', objective_num.Value())\n",
    "\n",
    "cost = 0\n",
    "size = 0\n",
    "\n",
    "for i in range(len(sol)):\n",
    "    if sol[i].solution_value() > 0: \n",
    "        c = df.loc[df.name==str(sol[i]), 'cost'].item()\n",
    "        s = df.loc[df.name==str(sol[i]), 'size'].item()\n",
    "        print(sol[i], '\\tnum:', sol[i].solution_value(), '\\tcost:', c, '€', '\\tsize:', s, 'm2' )\n",
    "        cost += c\n",
    "        size += s\n",
    "\n",
    "print('Cost =', cost, '€')\n",
    "print('Size =', round(size, 3), 'm2')"
   ]
  }
 ],
 "metadata": {
  "kernelspec": {
   "display_name": "Python 3",
   "language": "python",
   "name": "python3"
  },
  "language_info": {
   "codemirror_mode": {
    "name": "ipython",
    "version": 3
   },
   "file_extension": ".py",
   "mimetype": "text/x-python",
   "name": "python",
   "nbconvert_exporter": "python",
   "pygments_lexer": "ipython3",
   "version": "3.7.3"
  }
 },
 "nbformat": 4,
 "nbformat_minor": 4
}
