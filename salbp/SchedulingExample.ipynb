{
 "cells": [
  {
   "cell_type": "code",
   "execution_count": null,
   "metadata": {},
   "outputs": [],
   "source": [
    "import numpy as np\n",
    "import pandas as pd\n",
    "from ortools.linear_solver import pywraplp\n",
    "from collections import namedtuple"
   ]
  },
  {
   "cell_type": "code",
   "execution_count": null,
   "metadata": {},
   "outputs": [],
   "source": [
    "np.random.seed(42)"
   ]
  },
  {
   "cell_type": "code",
   "execution_count": null,
   "metadata": {},
   "outputs": [],
   "source": [
    "with open('../data/Scholl/GUNTHER.IN2', 'r') as f:\n",
    "    text = f.readlines()"
   ]
  },
  {
   "cell_type": "code",
   "execution_count": null,
   "metadata": {},
   "outputs": [],
   "source": [
    "relation = namedtuple('Relation', ['pre', 'suc'])\n",
    "task = namedtuple('Task', ['start', 'stop', 'interval'])"
   ]
  },
  {
   "cell_type": "code",
   "execution_count": null,
   "metadata": {},
   "outputs": [],
   "source": [
    "params = {}\n",
    "text = [x.replace('\\n', '') for x in text]\n",
    "params['task_num'] = int(text[0])"
   ]
  },
  {
   "cell_type": "code",
   "execution_count": null,
   "metadata": {},
   "outputs": [],
   "source": [
    "relations = []\n",
    "for i in range(1, params['task_num'] + 1):\n",
    "    params[i] = int(text[i])\n",
    "for i in range(params['task_num'] + 1, len(text) - 1):\n",
    "    relations.append(relation(*map(lambda x: int(x), text[i].split(','))))\n",
    "horizon = sum([t for t in list(params.values())[1:]])"
   ]
  },
  {
   "cell_type": "code",
   "execution_count": null,
   "metadata": {},
   "outputs": [],
   "source": [
    "relations"
   ]
  },
  {
   "cell_type": "markdown",
   "metadata": {},
   "source": [
    "# Create Variables"
   ]
  },
  {
   "cell_type": "code",
   "execution_count": null,
   "metadata": {},
   "outputs": [],
   "source": [
    "solver = pywraplp.Solver('simple_scheduling_programm', pywraplp.Solver.CBC_MIXED_INTEGER_PROGRAMMING)\n",
    "solver.Clear()\n",
    "solver"
   ]
  },
  {
   "cell_type": "code",
   "execution_count": null,
   "metadata": {},
   "outputs": [],
   "source": [
    "tasks = [[]] * params['task_num']\n",
    "for i in range(params['task_num']):\n",
    "    start = solver.IntVar(0, horizon, 'start_' + str(i+1))\n",
    "    duration = params[i + 1]\n",
    "    end =  start + duration\n",
    "    tasks[i] = task(start=start, stop=end, interval=duration)\n",
    "\n",
    "print('Number of variables:', solver.NumVariables())"
   ]
  },
  {
   "cell_type": "markdown",
   "metadata": {},
   "source": [
    "# Create Objective Function"
   ]
  },
  {
   "cell_type": "code",
   "execution_count": null,
   "metadata": {},
   "outputs": [],
   "source": [
    "solver.Minimize(solver.Sum([task.stop for task in tasks]))\n",
    "# solver.Minimize(solver.Sum( [tasks[i] for i in range(len(tasks))] ))"
   ]
  },
  {
   "cell_type": "markdown",
   "metadata": {},
   "source": [
    "# Create Constraints"
   ]
  },
  {
   "cell_type": "code",
   "execution_count": null,
   "metadata": {},
   "outputs": [],
   "source": [
    "for i in range(len(tasks) - 1):\n",
    "    solver.Add(tasks[i + 1].start >= tasks[i].start + tasks[i].interval)\n",
    "\n",
    "print('Number of constraints:', solver.NumConstraints())"
   ]
  },
  {
   "cell_type": "code",
   "execution_count": null,
   "metadata": {},
   "outputs": [],
   "source": [
    "solver.Solve()\n",
    "\n",
    "for t in tasks:\n",
    "    print('Task t: {:<10} | start: {:<10} | stop: {:<10}'.format(str(t.start).split('_')[-1], str(t.start.solution_value()), str(t.stop.solution_value())))"
   ]
  }
 ],
 "metadata": {
  "kernelspec": {
   "display_name": "Python 3",
   "language": "python",
   "name": "python3"
  },
  "language_info": {
   "codemirror_mode": {
    "name": "ipython",
    "version": 3
   },
   "file_extension": ".py",
   "mimetype": "text/x-python",
   "name": "python",
   "nbconvert_exporter": "python",
   "pygments_lexer": "ipython3",
   "version": "3.7.3"
  }
 },
 "nbformat": 4,
 "nbformat_minor": 2
}
