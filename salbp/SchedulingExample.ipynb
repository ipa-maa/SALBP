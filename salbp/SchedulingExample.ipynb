{
 "cells": [
  {
   "cell_type": "code",
   "execution_count": 2,
   "metadata": {},
   "outputs": [],
   "source": [
    "import numpy as np\n",
    "import pandas as pd\n",
    "from ortools.linear_solver import pywraplp\n",
    "from collections import namedtuple"
   ]
  },
  {
   "cell_type": "code",
   "execution_count": 3,
   "metadata": {},
   "outputs": [],
   "source": [
    "np.random.seed(42)"
   ]
  },
  {
   "cell_type": "code",
   "execution_count": 4,
   "metadata": {},
   "outputs": [
    {
     "name": "stdout",
     "output_type": "stream",
     "text": [
      " Datentr„ger in Laufwerk D: ist Daten\n",
      " Volumeseriennummer: 760E-F504\n",
      "\n",
      " Verzeichnis von D:\\git\\SALBP\n",
      "\n",
      "25.07.2019  10:58    <DIR>          .\n",
      "25.07.2019  10:58    <DIR>          ..\n",
      "25.07.2019  10:58             1.307 .gitignore\n",
      "25.07.2019  10:58    <DIR>          data\n",
      "25.07.2019  10:58               199 environment.yaml\n",
      "25.07.2019  10:58                49 README.md\n",
      "25.07.2019  12:55    <DIR>          salbp\n",
      "               3 Datei(en),          1.555 Bytes\n",
      "               4 Verzeichnis(se), 205.055.488.000 Bytes frei\n"
     ]
    }
   ],
   "source": [
    "ls .."
   ]
  },
  {
   "cell_type": "code",
   "execution_count": 5,
   "metadata": {},
   "outputs": [],
   "source": [
    "with open('../data/Scholl/GUNTHER.IN2', 'r') as f:\n",
    "    text = f.readlines()"
   ]
  },
  {
   "cell_type": "code",
   "execution_count": 6,
   "metadata": {},
   "outputs": [],
   "source": [
    "relation = namedtuple('Relation', ['pre', 'suc'])"
   ]
  },
  {
   "cell_type": "code",
   "execution_count": 7,
   "metadata": {},
   "outputs": [],
   "source": [
    "params = {}\n",
    "text = [x.replace('\\n', '') for x in text]\n",
    "params['task_num'] = int(text[0])"
   ]
  },
  {
   "cell_type": "code",
   "execution_count": 8,
   "metadata": {},
   "outputs": [],
   "source": [
    "relations = []\n",
    "for i in range(1, params['task_num'] + 1):\n",
    "    params[i] = int(text[i])\n",
    "for i in range(params['task_num'] + 1, len(text) - 1):\n",
    "    relations.append(relation(*map(lambda x: int(x), text[i].split(','))))"
   ]
  },
  {
   "cell_type": "code",
   "execution_count": 9,
   "metadata": {},
   "outputs": [
    {
     "data": {
      "text/plain": [
       "{'task_num': 35,\n",
       " 1: 29,\n",
       " 2: 3,\n",
       " 3: 5,\n",
       " 4: 22,\n",
       " 5: 6,\n",
       " 6: 14,\n",
       " 7: 2,\n",
       " 8: 5,\n",
       " 9: 22,\n",
       " 10: 30,\n",
       " 11: 23,\n",
       " 12: 30,\n",
       " 13: 23,\n",
       " 14: 2,\n",
       " 15: 19,\n",
       " 16: 29,\n",
       " 17: 2,\n",
       " 18: 2,\n",
       " 19: 19,\n",
       " 20: 29,\n",
       " 21: 6,\n",
       " 22: 10,\n",
       " 23: 16,\n",
       " 24: 23,\n",
       " 25: 5,\n",
       " 26: 5,\n",
       " 27: 5,\n",
       " 28: 40,\n",
       " 29: 2,\n",
       " 30: 5,\n",
       " 31: 5,\n",
       " 32: 1,\n",
       " 33: 40,\n",
       " 34: 2,\n",
       " 35: 2}"
      ]
     },
     "execution_count": 9,
     "metadata": {},
     "output_type": "execute_result"
    }
   ],
   "source": [
    "params"
   ]
  },
  {
   "cell_type": "code",
   "execution_count": 10,
   "metadata": {},
   "outputs": [
    {
     "data": {
      "text/plain": [
       "[Relation(pre=1, suc=2),\n",
       " Relation(pre=1, suc=5),\n",
       " Relation(pre=1, suc=7),\n",
       " Relation(pre=1, suc=10),\n",
       " Relation(pre=1, suc=12),\n",
       " Relation(pre=2, suc=3),\n",
       " Relation(pre=3, suc=4),\n",
       " Relation(pre=4, suc=11),\n",
       " Relation(pre=5, suc=6),\n",
       " Relation(pre=6, suc=7),\n",
       " Relation(pre=6, suc=8),\n",
       " Relation(pre=7, suc=14),\n",
       " Relation(pre=7, suc=18),\n",
       " Relation(pre=8, suc=9),\n",
       " Relation(pre=9, suc=13),\n",
       " Relation(pre=10, suc=14),\n",
       " Relation(pre=11, suc=28),\n",
       " Relation(pre=11, suc=33),\n",
       " Relation(pre=12, suc=18),\n",
       " Relation(pre=13, suc=28),\n",
       " Relation(pre=13, suc=33),\n",
       " Relation(pre=14, suc=15),\n",
       " Relation(pre=15, suc=16),\n",
       " Relation(pre=16, suc=21),\n",
       " Relation(pre=17, suc=20),\n",
       " Relation(pre=18, suc=19),\n",
       " Relation(pre=19, suc=20),\n",
       " Relation(pre=20, suc=21),\n",
       " Relation(pre=21, suc=22),\n",
       " Relation(pre=21, suc=25),\n",
       " Relation(pre=21, suc=30),\n",
       " Relation(pre=21, suc=32),\n",
       " Relation(pre=22, suc=23),\n",
       " Relation(pre=23, suc=24),\n",
       " Relation(pre=24, suc=27),\n",
       " Relation(pre=25, suc=26),\n",
       " Relation(pre=26, suc=27),\n",
       " Relation(pre=27, suc=28),\n",
       " Relation(pre=27, suc=33),\n",
       " Relation(pre=27, suc=34),\n",
       " Relation(pre=28, suc=29),\n",
       " Relation(pre=30, suc=31),\n",
       " Relation(pre=31, suc=32),\n",
       " Relation(pre=32, suc=33),\n",
       " Relation(pre=33, suc=35)]"
      ]
     },
     "execution_count": 10,
     "metadata": {},
     "output_type": "execute_result"
    }
   ],
   "source": [
    "relations"
   ]
  }
 ],
 "metadata": {
  "kernelspec": {
   "display_name": "Python 3",
   "language": "python",
   "name": "python3"
  },
  "language_info": {
   "codemirror_mode": {
    "name": "ipython",
    "version": 3
   },
   "file_extension": ".py",
   "mimetype": "text/x-python",
   "name": "python",
   "nbconvert_exporter": "python",
   "pygments_lexer": "ipython3",
   "version": "3.7.3"
  }
 },
 "nbformat": 4,
 "nbformat_minor": 2
}
